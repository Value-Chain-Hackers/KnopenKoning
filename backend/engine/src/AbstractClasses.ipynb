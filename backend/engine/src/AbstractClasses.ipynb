{
 "cells": [
  {
   "cell_type": "code",
   "execution_count": 1,
   "metadata": {},
   "outputs": [
    {
     "name": "stdout",
     "output_type": "stream",
     "text": [
      "Requirement already satisfied: pydantic in c:\\repos\\ai-research-engine\\.venv\\lib\\site-packages (2.9.0)\n",
      "Requirement already satisfied: annotated-types>=0.4.0 in c:\\repos\\ai-research-engine\\.venv\\lib\\site-packages (from pydantic) (0.7.0)\n",
      "Requirement already satisfied: pydantic-core==2.23.2 in c:\\repos\\ai-research-engine\\.venv\\lib\\site-packages (from pydantic) (2.23.2)\n",
      "Requirement already satisfied: typing-extensions>=4.6.1 in c:\\repos\\ai-research-engine\\.venv\\lib\\site-packages (from pydantic) (4.12.2)\n",
      "Requirement already satisfied: tzdata in c:\\repos\\ai-research-engine\\.venv\\lib\\site-packages (from pydantic) (2024.1)\n",
      "Note: you may need to restart the kernel to use updated packages.\n"
     ]
    },
    {
     "name": "stderr",
     "output_type": "stream",
     "text": [
      "\n",
      "[notice] A new release of pip is available: 24.0 -> 24.2\n",
      "[notice] To update, run: python.exe -m pip install --upgrade pip\n"
     ]
    }
   ],
   "source": [
    "%pip install pydantic"
   ]
  },
  {
   "cell_type": "code",
   "execution_count": 7,
   "metadata": {},
   "outputs": [],
   "source": [
    "from pydantic import BaseModel, Field\n",
    "\n",
    "class MyAssAddress(BaseModel):\n",
    "    street: str = Field('default street', title=\"The street name\", description=\"The street name\", min_length=1, max_length=100, example=\"Main St.\")\n",
    "    city: str = Field('default city', title=\"The city name\", description=\"The city name\", min_length=1, max_length=100, example=\"Springfield\")\n",
    "    \n",
    "    \n",
    "    def __init__(self, *args, **kwargs):\n",
    "        super().__init__(*args, **kwargs)\n",
    "        self.street = \"\"\n",
    "        self.city = \"\"\n",
    "        \n",
    "class MyAss(BaseModel):\n",
    "    name: str = Field('default name', title=\"The name of the person\", description=\"The name of the person\", min_length=1, max_length=100, example=\"John Doe\")\n",
    "    address: MyAssAddress = Field(MyAssAddress(), title=\"The address of the person\", description=\"The address of the person\")\n",
    "    def __init__(self, *args, **kwargs):\n",
    "        super().__init__(*args, **kwargs)\n",
    "        self.name = \"\"\n",
    "        self.age = 0\n",
    "        \n"
   ]
  },
  {
   "cell_type": "code",
   "execution_count": 20,
   "metadata": {},
   "outputs": [
    {
     "name": "stdout",
     "output_type": "stream",
     "text": [
      "    {\n",
      "        \"name\": ..., # type: str, The name of the person\n",
      "    }\n"
     ]
    }
   ],
   "source": [
    "from typing import Type, get_args, get_origin\n",
    "\n",
    "def generate_json_schema(model_type: Type[BaseModel], indent: int = 4) -> str:\n",
    "    lines = []\n",
    "    indentation = \" \" * indent\n",
    "\n",
    "    def process_model(model_type: Type[BaseModel], indent_level: int):\n",
    "        current_indent = \" \" * indent_level\n",
    "        lines.append(f\"{current_indent}{{\")\n",
    "        for field_name, field in model_type.model_fields.items():\n",
    "            field_type = field.annotation\n",
    "            if get_origin(field_type) is list:  # Handling list/array of BaseModel\n",
    "                item_type = get_args(field_type)[0]\n",
    "                if issubclass(item_type, BaseModel):\n",
    "                    lines.append(f'{current_indent}{indentation}\"{field_name}\": [')\n",
    "                    process_model(item_type, indent_level + indent)\n",
    "                    lines.append(f\"{current_indent}{indentation}], # type: List[{item_type.__name__}], {field.description}\")\n",
    "                else:\n",
    "                    lines.append(f'{current_indent}{indentation}\"{field_name}\": [...], # type: List[{item_type.__name__}], {field.description}')\n",
    "            elif issubclass(field_type, BaseModel):  # Handling BaseModel field\n",
    "                lines.append(f'{current_indent}{indentation}\"{field_name}\": ')\n",
    "                process_model(field_type, indent_level + indent)\n",
    "                lines.append(f\"{current_indent}{indentation}, # type: {field_type.__name__}, {field.description}\")\n",
    "            else:\n",
    "                lines.append(f'{current_indent}{indentation}\"{field_name}\": ..., # type: {field_type.__name__}, {field.description}')\n",
    "        lines.append(f\"{current_indent}}}\")\n",
    "\n",
    "    process_model(model_type, indent)\n",
    "    return \"\\n\".join(lines)\n",
    "\n",
    "model_type: Type[BaseModel] = MyAss  # Replace with your actual model class\n",
    "json_schema = generate_json_schema(model_type)\n",
    "print(json_schema)"
   ]
  },
  {
   "cell_type": "code",
   "execution_count": 13,
   "metadata": {},
   "outputs": [
    {
     "data": {
      "text/plain": [
       "'{\"properties\": {\"name\": {\"default\": \"default name\", \"description\": \"The name of the person\", \"example\": \"John Doe\", \"maxLength\": 100, \"minLength\": 1, \"title\": \"The name of the person\", \"type\": \"string\"}}, \"title\": \"MyAss\", \"type\": \"object\"}'"
      ]
     },
     "execution_count": 13,
     "metadata": {},
     "output_type": "execute_result"
    }
   ],
   "source": [
    "model_type.schema_json()"
   ]
  },
  {
   "cell_type": "code",
   "execution_count": 56,
   "metadata": {},
   "outputs": [],
   "source": [
    "\n",
    "from abc import ABC, abstractmethod\n",
    "\n",
    "class Shape(ABC):\n",
    "    x = 0\n",
    "    y = 0\n",
    "    color = \"black\"\n",
    "    \n",
    "    def __init__(self, x: int, y: int, color: str = \"black\"):\n",
    "        self.x = x\n",
    "        self.y = y\n",
    "        self.color = color\n",
    "    \n",
    "    @abstractmethod\n",
    "    def draw(self):\n",
    "        pass\n",
    "    \n",
    "    @abstractmethod \n",
    "    def area(self):\n",
    "        pass\n",
    "\n",
    "class Rectangle(Shape):\n",
    "    width = 0\n",
    "    height = 0\n",
    "\n",
    "    \n",
    "    def __init__(self, x: int, y: int, width: int, height: int, color: str = \"black\"):\n",
    "        super().__init__(x, y, color)\n",
    "        self.width = width\n",
    "        self.height = height\n",
    "\n",
    "    def area(self):\n",
    "        return self.calc_rectangle_area(self.width, self.height)\n",
    "\n",
    "    def draw(self):\n",
    "        print(f\"Drawing with {self.color} at {self.x}, {self.y}\")\n",
    "        print(f\"Rectangle Width: {self.width}, Height: {self.height}\")\n",
    "        \n",
    "\n",
    "    @staticmethod\n",
    "    def calc_rectangle_area(width: int, height: int):\n",
    "        return width * height\n",
    "        \n",
    "\n",
    "class Square(Shape):\n",
    "    def __init__(self, x: int, y: int, side: int, color: str = \"black\"):\n",
    "        super().__init__(x, y, color)\n",
    "        self.side = side\n",
    "        \n",
    "    def area(self):\n",
    "        return self.side * self.side\n",
    "    \n",
    "    def draw(self):\n",
    "        print(f\"Drawing with {self.color} at {self.x}, {self.y}\")\n",
    "        print(f\"Square Width: {self.side}\")\n",
    " "
   ]
  },
  {
   "cell_type": "code",
   "execution_count": 62,
   "metadata": {},
   "outputs": [
    {
     "name": "stdout",
     "output_type": "stream",
     "text": [
      "Drawing with black at 10, 20\n",
      "Square Side: 30\n"
     ]
    },
    {
     "data": {
      "text/plain": [
       "207025"
      ]
     },
     "execution_count": 62,
     "metadata": {},
     "output_type": "execute_result"
    }
   ],
   "source": [
    "myshape = Square(10, 20, 30)\n",
    "myshape.draw()\n",
    "myshape.side = 455\n",
    "myshape.area()"
   ]
  },
  {
   "cell_type": "code",
   "execution_count": 65,
   "metadata": {},
   "outputs": [
    {
     "name": "stdout",
     "output_type": "stream",
     "text": [
      "Drawing MyShape with green at 10, 20\n"
     ]
    }
   ],
   "source": [
    "   \n",
    "class MyShape(Shape):\n",
    "    def __init__(self, x: int, y: int, color: str = \"black\"):\n",
    "        super().__init__(x, y, color)\n",
    "    \n",
    "    def area(self):\n",
    "        return 0\n",
    "    \n",
    "    def draw(self):\n",
    "        print(f\"Drawing MyShape with {self.color} at {self.x}, {self.y}\")\n",
    "    \n",
    "myshape = MyShape(10, 20, \"green\")\n",
    "myshape.draw()"
   ]
  },
  {
   "cell_type": "code",
   "execution_count": 68,
   "metadata": {},
   "outputs": [
    {
     "name": "stdout",
     "output_type": "stream",
     "text": [
      "Drawing with red at 1, 2\n",
      "Rectangle Width: 3, Height: 4\n",
      "Drawing with blue at 1, 2\n",
      "Square Side: 3\n",
      "Drawing MyShape with green at 1, 2\n"
     ]
    }
   ],
   "source": [
    "shapes: list[Shape] = [Rectangle(1, 2, 3, 4, \"red\"), Square(1, 2, 3, \"blue\"), MyShape(1, 2, \"green\")]\n",
    "for shape in shapes:    \n",
    "    shape.draw()\n",
    "   \n"
   ]
  }
 ],
 "metadata": {
  "kernelspec": {
   "display_name": ".venv",
   "language": "python",
   "name": "python3"
  },
  "language_info": {
   "codemirror_mode": {
    "name": "ipython",
    "version": 3
   },
   "file_extension": ".py",
   "mimetype": "text/x-python",
   "name": "python",
   "nbconvert_exporter": "python",
   "pygments_lexer": "ipython3",
   "version": "3.11.9"
  }
 },
 "nbformat": 4,
 "nbformat_minor": 2
}
