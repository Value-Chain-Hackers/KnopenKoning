{
 "cells": [
  {
   "cell_type": "code",
   "execution_count": 19,
   "metadata": {},
   "outputs": [
    {
     "name": "stdout",
     "output_type": "stream",
     "text": [
      "8629\n"
     ]
    }
   ],
   "source": [
    "import glob\n",
    "import pandas as pd \n",
    "# load all .parquet files in the docs/ontology directory\n",
    "files = glob.glob('docs/ontology/*.parquet')\n",
    "\n",
    "# load the first file\n",
    "df = pd.read_parquet(files[0])\n",
    "\n",
    "# load the rest of the files\n",
    "for file in files[1:]:\n",
    "    df = pd.concat([df, pd.read_parquet(file)], ignore_index=True)\n",
    "\n",
    "print(len(df))"
   ]
  },
  {
   "cell_type": "code",
   "execution_count": 20,
   "metadata": {},
   "outputs": [
    {
     "name": "stdout",
     "output_type": "stream",
     "text": [
      "8150\n"
     ]
    }
   ],
   "source": [
    "# suppress duplicates\n",
    "df.drop_duplicates(inplace=True)\n",
    "print(len(df))"
   ]
  },
  {
   "cell_type": "code",
   "execution_count": 21,
   "metadata": {},
   "outputs": [],
   "source": [
    "# save the combined dataframe\n",
    "df.to_parquet('ontology_tune.parquet')"
   ]
  },
  {
   "cell_type": "code",
   "execution_count": 22,
   "metadata": {},
   "outputs": [
    {
     "data": {
      "text/html": [
       "<div>\n",
       "<style scoped>\n",
       "    .dataframe tbody tr th:only-of-type {\n",
       "        vertical-align: middle;\n",
       "    }\n",
       "\n",
       "    .dataframe tbody tr th {\n",
       "        vertical-align: top;\n",
       "    }\n",
       "\n",
       "    .dataframe thead th {\n",
       "        text-align: right;\n",
       "    }\n",
       "</style>\n",
       "<table border=\"1\" class=\"dataframe\">\n",
       "  <thead>\n",
       "    <tr style=\"text-align: right;\">\n",
       "      <th></th>\n",
       "      <th>instruction</th>\n",
       "      <th>input</th>\n",
       "      <th>output</th>\n",
       "      <th>ontology</th>\n",
       "      <th>model</th>\n",
       "    </tr>\n",
       "  </thead>\n",
       "  <tbody>\n",
       "    <tr>\n",
       "      <th>0</th>\n",
       "      <td>You are a helpful AI assistant, that helps use...</td>\n",
       "      <td>What is an example of an Address in the scm: n...</td>\n",
       "      <td>```turtle\\nscm:Address a rdf:Class ;\\n  rdfs:l...</td>\n",
       "      <td>None</td>\n",
       "      <td>None</td>\n",
       "    </tr>\n",
       "    <tr>\n",
       "      <th>1</th>\n",
       "      <td>You are a helpful AI assistant, that helps use...</td>\n",
       "      <td>What is the definition of an Address in the sc...</td>\n",
       "      <td>A specific location identifier used to pinpoin...</td>\n",
       "      <td>None</td>\n",
       "      <td>None</td>\n",
       "    </tr>\n",
       "    <tr>\n",
       "      <th>2</th>\n",
       "      <td>You are a helpful AI assistant, that helps use...</td>\n",
       "      <td>What is the natural language definition of an ...</td>\n",
       "      <td>An address is a set of details that specify th...</td>\n",
       "      <td>None</td>\n",
       "      <td>None</td>\n",
       "    </tr>\n",
       "    <tr>\n",
       "      <th>3</th>\n",
       "      <td>You are a helpful AI assistant, that helps use...</td>\n",
       "      <td>What is the first-order logic definition of an...</td>\n",
       "      <td>Address(x) → (∃y (Location(y) ∧ identifiedBy(y...</td>\n",
       "      <td>None</td>\n",
       "      <td>None</td>\n",
       "    </tr>\n",
       "    <tr>\n",
       "      <th>4</th>\n",
       "      <td>You are a helpful AI assistant, that helps use...</td>\n",
       "      <td>What is an example of something that is not an...</td>\n",
       "      <td>A vague description like 'next to the park' wi...</td>\n",
       "      <td>None</td>\n",
       "      <td>None</td>\n",
       "    </tr>\n",
       "    <tr>\n",
       "      <th>...</th>\n",
       "      <td>...</td>\n",
       "      <td>...</td>\n",
       "      <td>...</td>\n",
       "      <td>...</td>\n",
       "      <td>...</td>\n",
       "    </tr>\n",
       "    <tr>\n",
       "      <th>8624</th>\n",
       "      <td>You are a helpful AI assistant, that helps use...</td>\n",
       "      <td>What is an example of a subclass of Widget?</td>\n",
       "      <td>An example of a subclass of Widget is &lt;http://...</td>\n",
       "      <td>Widget</td>\n",
       "      <td>command-r:latest</td>\n",
       "    </tr>\n",
       "    <tr>\n",
       "      <th>8625</th>\n",
       "      <td>You are to create a concise and clear instruct...</td>\n",
       "      <td>Instruction creation request.</td>\n",
       "      <td>To extend the ontology by adding a new class, ...</td>\n",
       "      <td>Widget</td>\n",
       "      <td>command-r:latest</td>\n",
       "    </tr>\n",
       "    <tr>\n",
       "      <th>8626</th>\n",
       "      <td>Using the ontology, answer with a clear descri...</td>\n",
       "      <td>What are the requirements for mapping the loca...</td>\n",
       "      <td>To map the location of an assembly step, a use...</td>\n",
       "      <td>Widget</td>\n",
       "      <td>command-r:latest</td>\n",
       "    </tr>\n",
       "    <tr>\n",
       "      <th>8627</th>\n",
       "      <td>Create a diverse set of examples that showcase...</td>\n",
       "      <td>Example creation request.</td>\n",
       "      <td>Here are some diverse examples showcasing the ...</td>\n",
       "      <td>Widget</td>\n",
       "      <td>command-r:latest</td>\n",
       "    </tr>\n",
       "    <tr>\n",
       "      <th>8628</th>\n",
       "      <td>Write a question that fosters critical thinkin...</td>\n",
       "      <td>Think about the ontology's potential for growt...</td>\n",
       "      <td>The ontology could implement a strategy of org...</td>\n",
       "      <td>Widget</td>\n",
       "      <td>command-r:latest</td>\n",
       "    </tr>\n",
       "  </tbody>\n",
       "</table>\n",
       "<p>8150 rows × 5 columns</p>\n",
       "</div>"
      ],
      "text/plain": [
       "                                            instruction  \\\n",
       "0     You are a helpful AI assistant, that helps use...   \n",
       "1     You are a helpful AI assistant, that helps use...   \n",
       "2     You are a helpful AI assistant, that helps use...   \n",
       "3     You are a helpful AI assistant, that helps use...   \n",
       "4     You are a helpful AI assistant, that helps use...   \n",
       "...                                                 ...   \n",
       "8624  You are a helpful AI assistant, that helps use...   \n",
       "8625  You are to create a concise and clear instruct...   \n",
       "8626  Using the ontology, answer with a clear descri...   \n",
       "8627  Create a diverse set of examples that showcase...   \n",
       "8628  Write a question that fosters critical thinkin...   \n",
       "\n",
       "                                                  input  \\\n",
       "0     What is an example of an Address in the scm: n...   \n",
       "1     What is the definition of an Address in the sc...   \n",
       "2     What is the natural language definition of an ...   \n",
       "3     What is the first-order logic definition of an...   \n",
       "4     What is an example of something that is not an...   \n",
       "...                                                 ...   \n",
       "8624        What is an example of a subclass of Widget?   \n",
       "8625                      Instruction creation request.   \n",
       "8626  What are the requirements for mapping the loca...   \n",
       "8627                          Example creation request.   \n",
       "8628  Think about the ontology's potential for growt...   \n",
       "\n",
       "                                                 output ontology  \\\n",
       "0     ```turtle\\nscm:Address a rdf:Class ;\\n  rdfs:l...     None   \n",
       "1     A specific location identifier used to pinpoin...     None   \n",
       "2     An address is a set of details that specify th...     None   \n",
       "3     Address(x) → (∃y (Location(y) ∧ identifiedBy(y...     None   \n",
       "4     A vague description like 'next to the park' wi...     None   \n",
       "...                                                 ...      ...   \n",
       "8624  An example of a subclass of Widget is <http://...   Widget   \n",
       "8625  To extend the ontology by adding a new class, ...   Widget   \n",
       "8626  To map the location of an assembly step, a use...   Widget   \n",
       "8627  Here are some diverse examples showcasing the ...   Widget   \n",
       "8628  The ontology could implement a strategy of org...   Widget   \n",
       "\n",
       "                 model  \n",
       "0                 None  \n",
       "1                 None  \n",
       "2                 None  \n",
       "3                 None  \n",
       "4                 None  \n",
       "...                ...  \n",
       "8624  command-r:latest  \n",
       "8625  command-r:latest  \n",
       "8626  command-r:latest  \n",
       "8627  command-r:latest  \n",
       "8628  command-r:latest  \n",
       "\n",
       "[8150 rows x 5 columns]"
      ]
     },
     "execution_count": 22,
     "metadata": {},
     "output_type": "execute_result"
    }
   ],
   "source": [
    "df"
   ]
  },
  {
   "cell_type": "code",
   "execution_count": 23,
   "metadata": {},
   "outputs": [
    {
     "data": {
      "application/vnd.jupyter.widget-view+json": {
       "model_id": "5b225ff6811a40388fa44115064c78c4",
       "version_major": 2,
       "version_minor": 0
      },
      "text/plain": [
       "Saving the dataset (0/1 shards):   0%|          | 0/7335 [00:00<?, ? examples/s]"
      ]
     },
     "metadata": {},
     "output_type": "display_data"
    },
    {
     "data": {
      "application/vnd.jupyter.widget-view+json": {
       "model_id": "68f7b0901a844ae19e61b098b6f44003",
       "version_major": 2,
       "version_minor": 0
      },
      "text/plain": [
       "Saving the dataset (0/1 shards):   0%|          | 0/815 [00:00<?, ? examples/s]"
      ]
     },
     "metadata": {},
     "output_type": "display_data"
    },
    {
     "data": {
      "application/vnd.jupyter.widget-view+json": {
       "model_id": "26a38fb3d7924f798e9d0ccc6d1238b0",
       "version_major": 2,
       "version_minor": 0
      },
      "text/plain": [
       "Uploading the dataset shards:   0%|          | 0/1 [00:00<?, ?it/s]"
      ]
     },
     "metadata": {},
     "output_type": "display_data"
    },
    {
     "data": {
      "application/vnd.jupyter.widget-view+json": {
       "model_id": "fde6071aefc041f1a540d4d598133e09",
       "version_major": 2,
       "version_minor": 0
      },
      "text/plain": [
       "Creating parquet from Arrow format:   0%|          | 0/8 [00:00<?, ?ba/s]"
      ]
     },
     "metadata": {},
     "output_type": "display_data"
    },
    {
     "data": {
      "application/vnd.jupyter.widget-view+json": {
       "model_id": "78f4914b1b76477298f0cc70ecedb16b",
       "version_major": 2,
       "version_minor": 0
      },
      "text/plain": [
       "Uploading the dataset shards:   0%|          | 0/1 [00:00<?, ?it/s]"
      ]
     },
     "metadata": {},
     "output_type": "display_data"
    },
    {
     "data": {
      "application/vnd.jupyter.widget-view+json": {
       "model_id": "4cecd9a3a90144f58b116eb3c439ce1d",
       "version_major": 2,
       "version_minor": 0
      },
      "text/plain": [
       "Creating parquet from Arrow format:   0%|          | 0/1 [00:00<?, ?ba/s]"
      ]
     },
     "metadata": {},
     "output_type": "display_data"
    },
    {
     "data": {
      "application/vnd.jupyter.widget-view+json": {
       "model_id": "49504347acee4f349413e2666e091f2e",
       "version_major": 2,
       "version_minor": 0
      },
      "text/plain": [
       "README.md:   0%|          | 0.00/587 [00:00<?, ?B/s]"
      ]
     },
     "metadata": {},
     "output_type": "display_data"
    },
    {
     "name": "stderr",
     "output_type": "stream",
     "text": [
      "c:\\repos\\sebdg\\KnopenKoning\\.venv\\Lib\\site-packages\\huggingface_hub\\file_download.py:157: UserWarning: `huggingface_hub` cache-system uses symlinks by default to efficiently store duplicated files but your machine does not support them in C:\\Users\\sebdg\\.cache\\huggingface\\hub\\datasets--sebdg--ontologies_train_dataset. Caching files will still work but in a degraded version that might require more space on your disk. This warning can be disabled by setting the `HF_HUB_DISABLE_SYMLINKS_WARNING` environment variable. For more details, see https://huggingface.co/docs/huggingface_hub/how-to-cache#limitations.\n",
      "To support symlinks on Windows, you either need to activate Developer Mode or to run Python as an administrator. In order to see activate developer mode, see this article: https://docs.microsoft.com/en-us/windows/apps/get-started/enable-your-device-for-development\n",
      "  warnings.warn(message)\n"
     ]
    },
    {
     "data": {
      "text/plain": [
       "CommitInfo(commit_url='https://huggingface.co/datasets/sebdg/ontologies_train_dataset/commit/0a24cb85cb75b162aa69b6713c32e07cd3069e6a', commit_message='Upload dataset', commit_description='', oid='0a24cb85cb75b162aa69b6713c32e07cd3069e6a', pr_url=None, pr_revision=None, pr_num=None)"
      ]
     },
     "execution_count": 23,
     "metadata": {},
     "output_type": "execute_result"
    },
    {
     "ename": "",
     "evalue": "",
     "output_type": "error",
     "traceback": [
      "\u001b[1;31mThe Kernel crashed while executing code in the current cell or a previous cell. \n",
      "\u001b[1;31mPlease review the code in the cell(s) to identify a possible cause of the failure. \n",
      "\u001b[1;31mClick <a href='https://aka.ms/vscodeJupyterKernelCrash'>here</a> for more info. \n",
      "\u001b[1;31mView Jupyter <a href='command:jupyter.viewOutput'>log</a> for further details."
     ]
    }
   ],
   "source": [
    "from datasets import Dataset\n",
    "dataset = Dataset.from_pandas(df)\n",
    "# split the dataset into training and validation sets\n",
    "train_dataset = dataset.train_test_split(test_size=0.1)\n",
    "train_dataset.save_to_disk('train_dataset')\n",
    "\n",
    "train_dataset.push_to_hub('sebdg/ontologies_train_dataset')\n"
   ]
  }
 ],
 "metadata": {
  "kernelspec": {
   "display_name": ".venv",
   "language": "python",
   "name": "python3"
  },
  "language_info": {
   "codemirror_mode": {
    "name": "ipython",
    "version": 3
   },
   "file_extension": ".py",
   "mimetype": "text/x-python",
   "name": "python",
   "nbconvert_exporter": "python",
   "pygments_lexer": "ipython3",
   "version": "3.11.9"
  }
 },
 "nbformat": 4,
 "nbformat_minor": 2
}
